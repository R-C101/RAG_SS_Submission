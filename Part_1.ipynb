{
  "cells": [
    {
      "cell_type": "markdown",
      "metadata": {},
      "source": [
        "## Sample Set Part 1 (Rishit Chugh)"
      ]
    },
    {
      "cell_type": "markdown",
      "metadata": {
        "id": "ojer3Vu_DHR9"
      },
      "source": [
        "**Step 01: Install All the Required Packages**"
      ]
    },
    {
      "cell_type": "code",
      "execution_count": 1,
      "metadata": {
        "colab": {
          "base_uri": "https://localhost:8080/"
        },
        "id": "H8Y6fLpLC9_5",
        "outputId": "2096ec95-376c-4e30-9bc0-83cd73c32566"
      },
      "outputs": [
        {
          "name": "stdout",
          "output_type": "stream",
          "text": [
            "\u001b[33mDEPRECATION: Loading egg at /opt/homebrew/lib/python3.11/site-packages/twisted-23.10.0-py3.11.egg is deprecated. pip 24.3 will enforce this behaviour change. A possible replacement is to use pip for package installation.. Discussion can be found at https://github.com/pypa/pip/issues/12330\u001b[0m\u001b[33m\n",
            "\u001b[0m\u001b[33mDEPRECATION: colab 1.13.5 has a non-standard dependency specifier pytz>=2011n. pip 24.1 will enforce this behaviour change. A possible replacement is to upgrade to a newer version of colab or contact the author to suggest that they release a version with a conforming dependency specifiers. Discussion can be found at https://github.com/pypa/pip/issues/12063\u001b[0m\u001b[33m\n",
            "\u001b[0m\n",
            "\u001b[1m[\u001b[0m\u001b[34;49mnotice\u001b[0m\u001b[1;39;49m]\u001b[0m\u001b[39;49m A new release of pip is available: \u001b[0m\u001b[31;49m24.0\u001b[0m\u001b[39;49m -> \u001b[0m\u001b[32;49m24.2\u001b[0m\n",
            "\u001b[1m[\u001b[0m\u001b[34;49mnotice\u001b[0m\u001b[1;39;49m]\u001b[0m\u001b[39;49m To update, run: \u001b[0m\u001b[32;49mpython3.11 -m pip install --upgrade pip\u001b[0m\n"
          ]
        }
      ],
      "source": [
        "!pip install -q --upgrade google-generativeai langchain-google-genai python-dotenv langchain-community"
      ]
    },
    {
      "cell_type": "code",
      "execution_count": 2,
      "metadata": {
        "colab": {
          "base_uri": "https://localhost:8080/",
          "height": 1000
        },
        "id": "7IykdcN-eBgc",
        "outputId": "512394ae-678c-445d-8156-8db2dca4b6d4"
      },
      "outputs": [
        {
          "name": "stdout",
          "output_type": "stream",
          "text": [
            "\u001b[33mDEPRECATION: Loading egg at /opt/homebrew/lib/python3.11/site-packages/twisted-23.10.0-py3.11.egg is deprecated. pip 24.3 will enforce this behaviour change. A possible replacement is to use pip for package installation.. Discussion can be found at https://github.com/pypa/pip/issues/12330\u001b[0m\u001b[33m\n",
            "\u001b[0mRequirement already satisfied: langchain in /opt/homebrew/lib/python3.11/site-packages (0.3.3)\n",
            "Requirement already satisfied: PyYAML>=5.3 in /opt/homebrew/lib/python3.11/site-packages (from langchain) (6.0)\n",
            "Requirement already satisfied: SQLAlchemy<3,>=1.4 in /opt/homebrew/lib/python3.11/site-packages (from langchain) (2.0.29)\n",
            "Requirement already satisfied: aiohttp<4.0.0,>=3.8.3 in /opt/homebrew/lib/python3.11/site-packages (from langchain) (3.9.5)\n",
            "Requirement already satisfied: langchain-core<0.4.0,>=0.3.10 in /opt/homebrew/lib/python3.11/site-packages (from langchain) (0.3.12)\n",
            "Requirement already satisfied: langchain-text-splitters<0.4.0,>=0.3.0 in /opt/homebrew/lib/python3.11/site-packages (from langchain) (0.3.0)\n",
            "Requirement already satisfied: langsmith<0.2.0,>=0.1.17 in /opt/homebrew/lib/python3.11/site-packages (from langchain) (0.1.136)\n",
            "Requirement already satisfied: numpy<2,>=1 in /opt/homebrew/lib/python3.11/site-packages (from langchain) (1.24.3)\n",
            "Requirement already satisfied: pydantic<3.0.0,>=2.7.4 in /opt/homebrew/lib/python3.11/site-packages (from langchain) (2.9.2)\n",
            "Requirement already satisfied: requests<3,>=2 in /opt/homebrew/lib/python3.11/site-packages (from langchain) (2.32.3)\n",
            "Requirement already satisfied: tenacity!=8.4.0,<9.0.0,>=8.1.0 in /opt/homebrew/lib/python3.11/site-packages (from langchain) (8.2.3)\n",
            "Requirement already satisfied: aiosignal>=1.1.2 in /opt/homebrew/lib/python3.11/site-packages (from aiohttp<4.0.0,>=3.8.3->langchain) (1.3.1)\n",
            "Requirement already satisfied: attrs>=17.3.0 in /opt/homebrew/lib/python3.11/site-packages (from aiohttp<4.0.0,>=3.8.3->langchain) (23.2.0)\n",
            "Requirement already satisfied: frozenlist>=1.1.1 in /opt/homebrew/lib/python3.11/site-packages (from aiohttp<4.0.0,>=3.8.3->langchain) (1.3.3)\n",
            "Requirement already satisfied: multidict<7.0,>=4.5 in /opt/homebrew/lib/python3.11/site-packages (from aiohttp<4.0.0,>=3.8.3->langchain) (6.0.4)\n",
            "Requirement already satisfied: yarl<2.0,>=1.0 in /opt/homebrew/lib/python3.11/site-packages (from aiohttp<4.0.0,>=3.8.3->langchain) (1.9.2)\n",
            "Requirement already satisfied: jsonpatch<2.0,>=1.33 in /opt/homebrew/lib/python3.11/site-packages (from langchain-core<0.4.0,>=0.3.10->langchain) (1.33)\n",
            "Requirement already satisfied: packaging<25,>=23.2 in /opt/homebrew/lib/python3.11/site-packages (from langchain-core<0.4.0,>=0.3.10->langchain) (23.2)\n",
            "Requirement already satisfied: typing-extensions>=4.7 in /opt/homebrew/lib/python3.11/site-packages (from langchain-core<0.4.0,>=0.3.10->langchain) (4.9.0)\n",
            "Requirement already satisfied: httpx<1,>=0.23.0 in /opt/homebrew/lib/python3.11/site-packages (from langsmith<0.2.0,>=0.1.17->langchain) (0.26.0)\n",
            "Requirement already satisfied: orjson<4.0.0,>=3.9.14 in /opt/homebrew/lib/python3.11/site-packages (from langsmith<0.2.0,>=0.1.17->langchain) (3.10.1)\n",
            "Requirement already satisfied: requests-toolbelt<2.0.0,>=1.0.0 in /opt/homebrew/lib/python3.11/site-packages (from langsmith<0.2.0,>=0.1.17->langchain) (1.0.0)\n",
            "Requirement already satisfied: annotated-types>=0.6.0 in /opt/homebrew/lib/python3.11/site-packages (from pydantic<3.0.0,>=2.7.4->langchain) (0.6.0)\n",
            "Requirement already satisfied: pydantic-core==2.23.4 in /opt/homebrew/lib/python3.11/site-packages (from pydantic<3.0.0,>=2.7.4->langchain) (2.23.4)\n",
            "Requirement already satisfied: charset-normalizer<4,>=2 in /opt/homebrew/lib/python3.11/site-packages (from requests<3,>=2->langchain) (3.3.2)\n",
            "Requirement already satisfied: idna<4,>=2.5 in /opt/homebrew/lib/python3.11/site-packages (from requests<3,>=2->langchain) (2.10)\n",
            "Requirement already satisfied: urllib3<3,>=1.21.1 in /opt/homebrew/lib/python3.11/site-packages (from requests<3,>=2->langchain) (1.26.18)\n",
            "Requirement already satisfied: certifi>=2017.4.17 in /opt/homebrew/lib/python3.11/site-packages (from requests<3,>=2->langchain) (2023.7.22)\n",
            "Requirement already satisfied: anyio in /opt/homebrew/lib/python3.11/site-packages (from httpx<1,>=0.23.0->langsmith<0.2.0,>=0.1.17->langchain) (3.7.1)\n",
            "Requirement already satisfied: httpcore==1.* in /opt/homebrew/lib/python3.11/site-packages (from httpx<1,>=0.23.0->langsmith<0.2.0,>=0.1.17->langchain) (1.0.2)\n",
            "Requirement already satisfied: sniffio in /opt/homebrew/lib/python3.11/site-packages (from httpx<1,>=0.23.0->langsmith<0.2.0,>=0.1.17->langchain) (1.3.0)\n",
            "Requirement already satisfied: h11<0.15,>=0.13 in /opt/homebrew/lib/python3.11/site-packages (from httpcore==1.*->httpx<1,>=0.23.0->langsmith<0.2.0,>=0.1.17->langchain) (0.14.0)\n",
            "Requirement already satisfied: jsonpointer>=1.9 in /opt/homebrew/lib/python3.11/site-packages (from jsonpatch<2.0,>=1.33->langchain-core<0.4.0,>=0.3.10->langchain) (2.3)\n",
            "\u001b[33mDEPRECATION: colab 1.13.5 has a non-standard dependency specifier pytz>=2011n. pip 24.1 will enforce this behaviour change. A possible replacement is to upgrade to a newer version of colab or contact the author to suggest that they release a version with a conforming dependency specifiers. Discussion can be found at https://github.com/pypa/pip/issues/12063\u001b[0m\u001b[33m\n",
            "\u001b[0m\n",
            "\u001b[1m[\u001b[0m\u001b[34;49mnotice\u001b[0m\u001b[1;39;49m]\u001b[0m\u001b[39;49m A new release of pip is available: \u001b[0m\u001b[31;49m24.0\u001b[0m\u001b[39;49m -> \u001b[0m\u001b[32;49m24.2\u001b[0m\n",
            "\u001b[1m[\u001b[0m\u001b[34;49mnotice\u001b[0m\u001b[1;39;49m]\u001b[0m\u001b[39;49m To update, run: \u001b[0m\u001b[32;49mpython3.11 -m pip install --upgrade pip\u001b[0m\n",
            "\u001b[33mDEPRECATION: Loading egg at /opt/homebrew/lib/python3.11/site-packages/twisted-23.10.0-py3.11.egg is deprecated. pip 24.3 will enforce this behaviour change. A possible replacement is to use pip for package installation.. Discussion can be found at https://github.com/pypa/pip/issues/12330\u001b[0m\u001b[33m\n",
            "\u001b[0mRequirement already satisfied: pypdf in /opt/homebrew/lib/python3.11/site-packages (3.17.4)\n",
            "\u001b[33mDEPRECATION: colab 1.13.5 has a non-standard dependency specifier pytz>=2011n. pip 24.1 will enforce this behaviour change. A possible replacement is to upgrade to a newer version of colab or contact the author to suggest that they release a version with a conforming dependency specifiers. Discussion can be found at https://github.com/pypa/pip/issues/12063\u001b[0m\u001b[33m\n",
            "\u001b[0m\n",
            "\u001b[1m[\u001b[0m\u001b[34;49mnotice\u001b[0m\u001b[1;39;49m]\u001b[0m\u001b[39;49m A new release of pip is available: \u001b[0m\u001b[31;49m24.0\u001b[0m\u001b[39;49m -> \u001b[0m\u001b[32;49m24.2\u001b[0m\n",
            "\u001b[1m[\u001b[0m\u001b[34;49mnotice\u001b[0m\u001b[1;39;49m]\u001b[0m\u001b[39;49m To update, run: \u001b[0m\u001b[32;49mpython3.11 -m pip install --upgrade pip\u001b[0m\n",
            "\u001b[33mDEPRECATION: Loading egg at /opt/homebrew/lib/python3.11/site-packages/twisted-23.10.0-py3.11.egg is deprecated. pip 24.3 will enforce this behaviour change. A possible replacement is to use pip for package installation.. Discussion can be found at https://github.com/pypa/pip/issues/12330\u001b[0m\u001b[33m\n",
            "\u001b[0mRequirement already satisfied: chromadb in /opt/homebrew/lib/python3.11/site-packages (0.4.24)\n",
            "Requirement already satisfied: build>=1.0.3 in /opt/homebrew/lib/python3.11/site-packages (from chromadb) (1.2.1)\n",
            "Requirement already satisfied: requests>=2.28 in /opt/homebrew/lib/python3.11/site-packages (from chromadb) (2.32.3)\n",
            "Requirement already satisfied: pydantic>=1.9 in /opt/homebrew/lib/python3.11/site-packages (from chromadb) (2.9.2)\n",
            "Requirement already satisfied: chroma-hnswlib==0.7.3 in /opt/homebrew/lib/python3.11/site-packages (from chromadb) (0.7.3)\n",
            "Requirement already satisfied: fastapi>=0.95.2 in /opt/homebrew/lib/python3.11/site-packages (from chromadb) (0.105.0)\n",
            "Requirement already satisfied: uvicorn>=0.18.3 in /opt/homebrew/lib/python3.11/site-packages (from uvicorn[standard]>=0.18.3->chromadb) (0.24.0.post1)\n",
            "Requirement already satisfied: numpy>=1.22.5 in /opt/homebrew/lib/python3.11/site-packages (from chromadb) (1.24.3)\n",
            "Requirement already satisfied: posthog>=2.4.0 in /opt/homebrew/lib/python3.11/site-packages (from chromadb) (3.1.0)\n",
            "Requirement already satisfied: typing-extensions>=4.5.0 in /opt/homebrew/lib/python3.11/site-packages (from chromadb) (4.9.0)\n",
            "Requirement already satisfied: pulsar-client>=3.1.0 in /opt/homebrew/lib/python3.11/site-packages (from chromadb) (3.3.0)\n",
            "Requirement already satisfied: onnxruntime>=1.14.1 in /opt/homebrew/lib/python3.11/site-packages (from chromadb) (1.16.3)\n",
            "Requirement already satisfied: opentelemetry-api>=1.2.0 in /opt/homebrew/lib/python3.11/site-packages (from chromadb) (1.24.0)\n",
            "Requirement already satisfied: opentelemetry-exporter-otlp-proto-grpc>=1.2.0 in /opt/homebrew/lib/python3.11/site-packages (from chromadb) (1.24.0)\n",
            "Requirement already satisfied: opentelemetry-instrumentation-fastapi>=0.41b0 in /opt/homebrew/lib/python3.11/site-packages (from chromadb) (0.45b0)\n",
            "Requirement already satisfied: opentelemetry-sdk>=1.2.0 in /opt/homebrew/lib/python3.11/site-packages (from chromadb) (1.24.0)\n",
            "Requirement already satisfied: tokenizers>=0.13.2 in /opt/homebrew/lib/python3.11/site-packages (from chromadb) (0.19.1)\n",
            "Requirement already satisfied: pypika>=0.48.9 in /opt/homebrew/lib/python3.11/site-packages (from chromadb) (0.48.9)\n",
            "Requirement already satisfied: tqdm>=4.65.0 in /opt/homebrew/lib/python3.11/site-packages (from chromadb) (4.65.0)\n",
            "Requirement already satisfied: overrides>=7.3.1 in /opt/homebrew/lib/python3.11/site-packages (from chromadb) (7.4.0)\n",
            "Requirement already satisfied: importlib-resources in /opt/homebrew/lib/python3.11/site-packages (from chromadb) (6.1.1)\n",
            "Requirement already satisfied: grpcio>=1.58.0 in /opt/homebrew/lib/python3.11/site-packages (from chromadb) (1.60.1)\n",
            "Requirement already satisfied: bcrypt>=4.0.1 in /opt/homebrew/lib/python3.11/site-packages (from chromadb) (4.1.2)\n",
            "Requirement already satisfied: typer>=0.9.0 in /opt/homebrew/lib/python3.11/site-packages (from chromadb) (0.9.0)\n",
            "Requirement already satisfied: kubernetes>=28.1.0 in /opt/homebrew/lib/python3.11/site-packages (from chromadb) (28.1.0)\n",
            "Requirement already satisfied: tenacity>=8.2.3 in /opt/homebrew/lib/python3.11/site-packages (from chromadb) (8.2.3)\n",
            "Requirement already satisfied: PyYAML>=6.0.0 in /opt/homebrew/lib/python3.11/site-packages (from chromadb) (6.0)\n",
            "Requirement already satisfied: mmh3>=4.0.1 in /opt/homebrew/lib/python3.11/site-packages (from chromadb) (4.0.1)\n",
            "Requirement already satisfied: orjson>=3.9.12 in /opt/homebrew/lib/python3.11/site-packages (from chromadb) (3.10.1)\n",
            "Requirement already satisfied: packaging>=19.1 in /opt/homebrew/lib/python3.11/site-packages (from build>=1.0.3->chromadb) (23.2)\n",
            "Requirement already satisfied: pyproject_hooks in /opt/homebrew/lib/python3.11/site-packages (from build>=1.0.3->chromadb) (1.0.0)\n",
            "Requirement already satisfied: anyio<4.0.0,>=3.7.1 in /opt/homebrew/lib/python3.11/site-packages (from fastapi>=0.95.2->chromadb) (3.7.1)\n",
            "Requirement already satisfied: starlette<0.28.0,>=0.27.0 in /opt/homebrew/lib/python3.11/site-packages (from fastapi>=0.95.2->chromadb) (0.27.0)\n",
            "Requirement already satisfied: certifi>=14.05.14 in /opt/homebrew/lib/python3.11/site-packages (from kubernetes>=28.1.0->chromadb) (2023.7.22)\n",
            "Requirement already satisfied: six>=1.9.0 in /opt/homebrew/lib/python3.11/site-packages (from kubernetes>=28.1.0->chromadb) (1.16.0)\n",
            "Requirement already satisfied: python-dateutil>=2.5.3 in /opt/homebrew/lib/python3.11/site-packages (from kubernetes>=28.1.0->chromadb) (2.8.2)\n",
            "Requirement already satisfied: google-auth>=1.0.1 in /opt/homebrew/lib/python3.11/site-packages (from kubernetes>=28.1.0->chromadb) (2.25.2)\n",
            "Requirement already satisfied: websocket-client!=0.40.0,!=0.41.*,!=0.42.*,>=0.32.0 in /opt/homebrew/lib/python3.11/site-packages (from kubernetes>=28.1.0->chromadb) (1.5.1)\n",
            "Requirement already satisfied: requests-oauthlib in /opt/homebrew/lib/python3.11/site-packages (from kubernetes>=28.1.0->chromadb) (1.3.1)\n",
            "Requirement already satisfied: oauthlib>=3.2.2 in /opt/homebrew/lib/python3.11/site-packages (from kubernetes>=28.1.0->chromadb) (3.2.2)\n",
            "Requirement already satisfied: urllib3<2.0,>=1.24.2 in /opt/homebrew/lib/python3.11/site-packages (from kubernetes>=28.1.0->chromadb) (1.26.18)\n",
            "Requirement already satisfied: coloredlogs in /opt/homebrew/lib/python3.11/site-packages (from onnxruntime>=1.14.1->chromadb) (15.0.1)\n",
            "Requirement already satisfied: flatbuffers in /opt/homebrew/lib/python3.11/site-packages (from onnxruntime>=1.14.1->chromadb) (24.3.25)\n",
            "Requirement already satisfied: protobuf in /opt/homebrew/lib/python3.11/site-packages (from onnxruntime>=1.14.1->chromadb) (4.25.5)\n",
            "Requirement already satisfied: sympy in /opt/homebrew/lib/python3.11/site-packages (from onnxruntime>=1.14.1->chromadb) (1.12)\n",
            "Requirement already satisfied: deprecated>=1.2.6 in /opt/homebrew/lib/python3.11/site-packages (from opentelemetry-api>=1.2.0->chromadb) (1.2.14)\n",
            "Requirement already satisfied: importlib-metadata<=7.0,>=6.0 in /opt/homebrew/lib/python3.11/site-packages (from opentelemetry-api>=1.2.0->chromadb) (6.0.0)\n",
            "Requirement already satisfied: googleapis-common-protos~=1.52 in /opt/homebrew/lib/python3.11/site-packages (from opentelemetry-exporter-otlp-proto-grpc>=1.2.0->chromadb) (1.62.0)\n",
            "Requirement already satisfied: opentelemetry-exporter-otlp-proto-common==1.24.0 in /opt/homebrew/lib/python3.11/site-packages (from opentelemetry-exporter-otlp-proto-grpc>=1.2.0->chromadb) (1.24.0)\n",
            "Requirement already satisfied: opentelemetry-proto==1.24.0 in /opt/homebrew/lib/python3.11/site-packages (from opentelemetry-exporter-otlp-proto-grpc>=1.2.0->chromadb) (1.24.0)\n",
            "Requirement already satisfied: opentelemetry-instrumentation-asgi==0.45b0 in /opt/homebrew/lib/python3.11/site-packages (from opentelemetry-instrumentation-fastapi>=0.41b0->chromadb) (0.45b0)\n",
            "Requirement already satisfied: opentelemetry-instrumentation==0.45b0 in /opt/homebrew/lib/python3.11/site-packages (from opentelemetry-instrumentation-fastapi>=0.41b0->chromadb) (0.45b0)\n",
            "Requirement already satisfied: opentelemetry-semantic-conventions==0.45b0 in /opt/homebrew/lib/python3.11/site-packages (from opentelemetry-instrumentation-fastapi>=0.41b0->chromadb) (0.45b0)\n",
            "Requirement already satisfied: opentelemetry-util-http==0.45b0 in /opt/homebrew/lib/python3.11/site-packages (from opentelemetry-instrumentation-fastapi>=0.41b0->chromadb) (0.45b0)\n",
            "Requirement already satisfied: setuptools>=16.0 in /opt/homebrew/lib/python3.11/site-packages (from opentelemetry-instrumentation==0.45b0->opentelemetry-instrumentation-fastapi>=0.41b0->chromadb) (69.0.2)\n",
            "Requirement already satisfied: wrapt<2.0.0,>=1.0.0 in /opt/homebrew/lib/python3.11/site-packages (from opentelemetry-instrumentation==0.45b0->opentelemetry-instrumentation-fastapi>=0.41b0->chromadb) (1.16.0)\n",
            "Requirement already satisfied: asgiref~=3.0 in /opt/homebrew/lib/python3.11/site-packages (from opentelemetry-instrumentation-asgi==0.45b0->opentelemetry-instrumentation-fastapi>=0.41b0->chromadb) (3.7.2)\n",
            "Requirement already satisfied: monotonic>=1.5 in /opt/homebrew/lib/python3.11/site-packages (from posthog>=2.4.0->chromadb) (1.6)\n",
            "Requirement already satisfied: backoff>=1.10.0 in /opt/homebrew/lib/python3.11/site-packages (from posthog>=2.4.0->chromadb) (2.2.1)\n",
            "Requirement already satisfied: annotated-types>=0.6.0 in /opt/homebrew/lib/python3.11/site-packages (from pydantic>=1.9->chromadb) (0.6.0)\n",
            "Requirement already satisfied: pydantic-core==2.23.4 in /opt/homebrew/lib/python3.11/site-packages (from pydantic>=1.9->chromadb) (2.23.4)\n",
            "Requirement already satisfied: charset-normalizer<4,>=2 in /opt/homebrew/lib/python3.11/site-packages (from requests>=2.28->chromadb) (3.3.2)\n",
            "Requirement already satisfied: idna<4,>=2.5 in /opt/homebrew/lib/python3.11/site-packages (from requests>=2.28->chromadb) (2.10)\n",
            "Requirement already satisfied: huggingface-hub<1.0,>=0.16.4 in /opt/homebrew/lib/python3.11/site-packages (from tokenizers>=0.13.2->chromadb) (0.23.3)\n",
            "Requirement already satisfied: click<9.0.0,>=7.1.1 in /opt/homebrew/lib/python3.11/site-packages (from typer>=0.9.0->chromadb) (8.1.7)\n",
            "Requirement already satisfied: h11>=0.8 in /opt/homebrew/lib/python3.11/site-packages (from uvicorn>=0.18.3->uvicorn[standard]>=0.18.3->chromadb) (0.14.0)\n",
            "Requirement already satisfied: httptools>=0.5.0 in /opt/homebrew/lib/python3.11/site-packages (from uvicorn[standard]>=0.18.3->chromadb) (0.6.1)\n",
            "Requirement already satisfied: python-dotenv>=0.13 in /opt/homebrew/lib/python3.11/site-packages (from uvicorn[standard]>=0.18.3->chromadb) (1.0.1)\n",
            "Requirement already satisfied: uvloop!=0.15.0,!=0.15.1,>=0.14.0 in /opt/homebrew/lib/python3.11/site-packages (from uvicorn[standard]>=0.18.3->chromadb) (0.19.0)\n",
            "Requirement already satisfied: watchfiles>=0.13 in /opt/homebrew/lib/python3.11/site-packages (from uvicorn[standard]>=0.18.3->chromadb) (0.21.0)\n",
            "Requirement already satisfied: websockets>=10.4 in /opt/homebrew/lib/python3.11/site-packages (from uvicorn[standard]>=0.18.3->chromadb) (12.0)\n",
            "Requirement already satisfied: sniffio>=1.1 in /opt/homebrew/lib/python3.11/site-packages (from anyio<4.0.0,>=3.7.1->fastapi>=0.95.2->chromadb) (1.3.0)\n",
            "Requirement already satisfied: cachetools<6.0,>=2.0.0 in /opt/homebrew/lib/python3.11/site-packages (from google-auth>=1.0.1->kubernetes>=28.1.0->chromadb) (5.3.0)\n",
            "Requirement already satisfied: pyasn1-modules>=0.2.1 in /opt/homebrew/lib/python3.11/site-packages (from google-auth>=1.0.1->kubernetes>=28.1.0->chromadb) (0.3.0)\n",
            "Requirement already satisfied: rsa<5,>=3.1.4 in /opt/homebrew/lib/python3.11/site-packages (from google-auth>=1.0.1->kubernetes>=28.1.0->chromadb) (4.9)\n",
            "Requirement already satisfied: filelock in /opt/homebrew/lib/python3.11/site-packages (from huggingface-hub<1.0,>=0.16.4->tokenizers>=0.13.2->chromadb) (3.13.1)\n",
            "Requirement already satisfied: fsspec>=2023.5.0 in /opt/homebrew/lib/python3.11/site-packages (from huggingface-hub<1.0,>=0.16.4->tokenizers>=0.13.2->chromadb) (2023.12.2)\n",
            "Requirement already satisfied: zipp>=0.5 in /opt/homebrew/lib/python3.11/site-packages (from importlib-metadata<=7.0,>=6.0->opentelemetry-api>=1.2.0->chromadb) (3.13.0)\n",
            "Requirement already satisfied: humanfriendly>=9.1 in /opt/homebrew/lib/python3.11/site-packages (from coloredlogs->onnxruntime>=1.14.1->chromadb) (10.0)\n",
            "Requirement already satisfied: mpmath>=0.19 in /opt/homebrew/lib/python3.11/site-packages (from sympy->onnxruntime>=1.14.1->chromadb) (1.3.0)\n",
            "Requirement already satisfied: pyasn1<0.6.0,>=0.4.6 in /opt/homebrew/lib/python3.11/site-packages (from pyasn1-modules>=0.2.1->google-auth>=1.0.1->kubernetes>=28.1.0->chromadb) (0.5.1)\n",
            "\u001b[33mDEPRECATION: colab 1.13.5 has a non-standard dependency specifier pytz>=2011n. pip 24.1 will enforce this behaviour change. A possible replacement is to upgrade to a newer version of colab or contact the author to suggest that they release a version with a conforming dependency specifiers. Discussion can be found at https://github.com/pypa/pip/issues/12063\u001b[0m\u001b[33m\n",
            "\u001b[0m\n",
            "\u001b[1m[\u001b[0m\u001b[34;49mnotice\u001b[0m\u001b[1;39;49m]\u001b[0m\u001b[39;49m A new release of pip is available: \u001b[0m\u001b[31;49m24.0\u001b[0m\u001b[39;49m -> \u001b[0m\u001b[32;49m24.2\u001b[0m\n",
            "\u001b[1m[\u001b[0m\u001b[34;49mnotice\u001b[0m\u001b[1;39;49m]\u001b[0m\u001b[39;49m To update, run: \u001b[0m\u001b[32;49mpython3.11 -m pip install --upgrade pip\u001b[0m\n"
          ]
        }
      ],
      "source": [
        "!pip install langchain\n",
        "!pip install pypdf\n",
        "!pip install chromadb"
      ]
    },
    {
      "cell_type": "markdown",
      "metadata": {},
      "source": [
        "### Import libraries"
      ]
    },
    {
      "cell_type": "code",
      "execution_count": 3,
      "metadata": {
        "id": "WwKTW1JBc2Ln"
      },
      "outputs": [],
      "source": [
        "from langchain import PromptTemplate\n",
        "from langchain.chains.question_answering import load_qa_chain\n",
        "from langchain_community.document_loaders import PyPDFDirectoryLoader\n",
        "from langchain.text_splitter import RecursiveCharacterTextSplitter\n",
        "from langchain.vectorstores import Chroma"
      ]
    },
    {
      "cell_type": "markdown",
      "metadata": {
        "id": "e_xh5Vo2esi9"
      },
      "source": [
        "**make pdf folder and add pdf files inside it**"
      ]
    },
    {
      "cell_type": "code",
      "execution_count": 4,
      "metadata": {
        "id": "uT9M3OQXejNg"
      },
      "outputs": [
        {
          "name": "stdout",
          "output_type": "stream",
          "text": [
            "mkdir: pdfs: File exists\n"
          ]
        }
      ],
      "source": [
        "!mkdir pdfs"
      ]
    },
    {
      "cell_type": "markdown",
      "metadata": {
        "id": "42goAmn1e9yM"
      },
      "source": [
        "**Extract the text from the PDF's**"
      ]
    },
    {
      "cell_type": "code",
      "execution_count": 5,
      "metadata": {
        "id": "Ee_vysycee43"
      },
      "outputs": [],
      "source": [
        "loader = PyPDFDirectoryLoader(\"pdfs\")\n",
        "data = loader.load_and_split()"
      ]
    },
    {
      "cell_type": "code",
      "execution_count": 6,
      "metadata": {
        "colab": {
          "base_uri": "https://localhost:8080/"
        },
        "id": "q3BcpS99fOO0",
        "outputId": "19d30c6f-f086-4f12-f59f-b7bdf2eb9b44"
      },
      "outputs": [
        {
          "name": "stdout",
          "output_type": "stream",
          "text": [
            "[Document(metadata={'source': 'pdfs/Resume_academic.docx (3).pdf', 'page': 0}, page_content=\"Rishit\\nChugh\\nrishitchugh@gmail.com\\n❖\\ngithub.com/R-C101\\n❖\\nwww.linkedin.com/in/rishit-chugh/\\nEDUCATION\\nVIT\\nBhopal\\n(Bachelor s\\nin\\nTechnolo gy)\\n2021-2025\\nBTech\\nComputer\\nScience\\n(specialization\\nin\\nArtificial\\nIntelligence\\nand\\nMachine\\nLearning)\\nCum ulative\\nGPA:\\n9.05/10\\nRESEAR CH\\nEXPERIENCE\\n●\\nTitle\\n:\\nRECAP:\\nA\\nResource-Efficient\\nMethod\\nfor\\nAdversarial\\nPrompting\\nin\\nLarge\\nLanguag e\\nModels\\n●\\nDuration:\\nJune\\n2024\\n-\\nOctober\\n2024\\n●\\nStatus:\\nUnder\\nReview\\n●\\nDescription:\\nRECAP\\nis\\na\\nresource-efficient\\nmethod\\nfor\\nadversarial\\nprompting\\nin\\nLarge\\nLanguag e \\nModels\\n(LLMs),\\ndesigned\\nto\\nreduce\\ncomputational\\ncosts\\nwhile\\nmaintaining\\ncomparable\\nsuccess\\nrates \\nto\\nmethods\\nlike\\nGCG\\nand\\nPEZ.\\nIt\\nimpro ves\\naccessibility\\nfor\\nblack-box\\nLLMs ,\\noffering\\na \\ncost-effecti ve\\nsolution\\nfor\\ncompanies\\nwith\\nlimited\\nresources .\\nBy\\nleveraging\\npre-g enerated\\ntoken\\nsets, \\nRECAP\\nreduces\\ntraining\\ntimes\\nand\\nhighlights\\nthe\\npotential\\nfor\\nfuture\\noptimization.\\nThe\\nmethod \\nexplores\\nsecurity\\nimplications ,\\npromoting\\nethical\\nuse,\\nand\\nproposes\\nexpanding\\nthe\\nRAG\\ndatabase \\nand\\nminimizing\\ntraining\\ntimes\\nas\\nfuture\\nresearc h\\ndirections .\\nINTERNSHIPS\\nDMI\\nFinance\\nPvt\\nLtd\\nJuly\\n2024\\n–\\nOctober\\n2024\\nLLM\\nIntern\\nTechnologies\\nUsed:\\nAWS,\\nVLLM,\\nTransformers,\\nPyTorch,\\nTensorflow,\\nPEFT,\\nQLORAs\\n●\\nAssisted\\nin\\ndeveloping\\nan\\nLLM\\nGuardrailing\\nand\\nSafety\\nProduct\\nfor\\nbusinesses,\\ncreating\\nguardrailing\\nmodels \\nfor\\ntoxicity,\\njailbreak\\ndetection,\\nand\\nPII\\nmasking,\\nachieving\\n30%\\nbetter\\nresults\\nthan\\nMeta's\\nLlama\\nGuard \\nthrough\\nefficient\\nfine-tuning.\\n●\\nImplemented\\nVLLM\\nsupport\\nto\\nreduce\\ninference\\ntimes\\nby\\n5x\\nwith\\nparallel\\ninference\\non\\nmultiple\\nGPUs\\nand \\ndeveloped\\nan\\norchestrator\\nfor\\nseamless\\nintegration\\nof\\nprompt\\nconversion,\\ndata\\naugmentation,\\nresponse \\ngeneration,\\nand\\nscoring.\\n●\\nIntegrated\\nstate-of-the-art\\nadversarial\\nattack\\nmethods,\\nachieving\\na\\n60%\\nsuccess\\nrate\\nin\\ntesting\\nLLM \\nrobustness,\\nand\\ndeveloped\\nRAG\\nand\\nfact\\nhallucination\\ntesting\\nalgorithms,\\nachieving\\n80%\\nsuccess\\nin\\nhosted \\nLLMs\\nlike\\nChatGPT\\nand\\nGemini.\\n●\\nCreated\\nproduction-ready\\ntest\\ncases\\nfor\\nstress\\ntesting\\nand\\ndeployed\\nsolutions\\non\\nAWS\\nEC2\\nand\\nDocker \\nimages\\nfor\\ndemonstration\\nand\\navailability.\\nLilac\\nMosaic\\nJanuary\\n2024\\n–\\nMarch\\n2024\\nAI/ML\\nIntern\\nTechnologies\\nUsed:\\nOpenCV,\\nOpenAI,\\nNLTK,\\nFirebase,\\nFastAPI,\\nGoogle\\nCloud,\\nGemini\\n●\\nDeveloped\\nFAQ\\nand\\nRAG\\nchatbot\\nusing\\nTransformers\\nand\\nDialogflow,\\nachieving\\na\\n90%\\nreduction\\nin\\nsupport \\ninquiries\\n.\\nDeployed\\nthe\\nbackend\\non\\nGoogle\\nCloud\\nPlatform\\nfor\\nflexibility.\\n●\\nImplemented\\nimage\\nsimilarity\\nand\\nrecommendation\\nsystems\\nusing\\nOpenCV\\nand\\ncolor\\nhistograms.\\n●\\nDeployed\\nthe\\nsolutions\\non\\nFirebase\\nfor\\nscalability\\nand\\nreal-time\\nperformance.\"), Document(metadata={'source': 'pdfs/Resume_academic.docx (3).pdf', 'page': 1}, page_content='●\\nDeveloped\\nand\\ndeployed\\nautomation\\nscripts\\nfor\\ncheckout,\\nemail,\\nand\\nreviews\\nusing\\ncron\\nand\\nSendgrid\\nAPI\\nas \\nfirebase\\ncloud\\nfunctions\\nto\\nenhance\\ncustomer\\nexperience\\nand\\nsupport\\nretention\\n●\\nDeveloped\\nan\\nAI\\nassisted\\npersonalized\\nsystem\\nthat\\noffers\\ndiscounts\\nbased\\non\\na\\nsurvey\\ntaken\\nat\\ncheck-in\\ntime.\\nPROJECTS\\nOKULAR Y\\nFebruary\\n2024\\n-\\nMarch\\n2024\\n●\\nDesigned\\nand\\ndeveloped\\nan\\nAI-powered\\neducational\\nplatform\\nthat\\nleverages\\nNLP,\\nComputer\\nVision \\n(OpenCV),\\nand\\nTransformers\\nto\\nstreamline\\nteaching\\ntasks,\\nsuch\\nas\\nautomating\\nattendance\\ntracking,\\nassignment \\ngrading,\\nand\\nplagiarism\\ndetection.\\n●\\nIntegrated\\ndata\\nvisualization\\ntools\\nto\\ncreate\\nintuitive\\ndashboards,\\nproviding\\nteachers\\nwith\\nreal-time\\nanalytics \\non\\nstudent\\nperformance\\nand\\nattendance\\ntrends.\\n●\\nFocused\\non\\nenhancing\\nteacher\\nefficiency,\\nreducing\\nmanual\\nworkload\\nby\\ncreating\\nautomated\\nsystems\\nthat\\nare \\nadaptable\\nto\\nvarious\\nteaching\\nenvironments.\\n●\\nApplied\\ntransformers\\nfor\\nadvanced\\ntext\\nanalysis\\nin\\nassignment\\nevaluation,\\nensuring\\naccurate\\ndetection\\nof \\nsimilarities\\nand\\nplagiarism\\nacross\\nlarge\\ndatasets.\\nCVAR\\nApril\\n2024\\n-\\nMay\\n2024\\n●\\nDeveloped\\na\\ncomprehensive\\nfootball\\nanalysis\\nsystem\\nutilizing\\nYOLO\\nfor\\nobject\\ndetection,\\nOpenCV\\nfor\\nimage \\nprocessing,\\nand\\nnumpy\\nfor\\ndata\\nmanipulation\\nto\\ntrack\\nplayers,\\nreferees,\\nand\\nthe\\nball\\nwith\\nhigh\\nprecision\\nduring \\nlive\\ngames.\\n●\\nImplemented\\nfeatures\\nlike\\nball\\npossession\\ntracking,\\nplayer\\nspeed\\nestimation,\\nand\\ncamera\\nmovement\\nanalysis\\nto \\nprovide\\nin-depth\\ngame\\ninsights,\\nenhancing\\ndecision-making\\nfor\\ncoaches\\nand\\nanalysts.\\n●\\nLeveraged\\nSuperVision\\nto\\nextract\\ndetailed\\nplayer\\nmovement\\ndata,\\noffering\\ngranular\\ninsights\\ninto\\ngameplay, \\npositioning,\\nand\\nstrategy.\\n●\\nDelivered\\nan\\nautomated\\nsystem\\nthat\\ninterpolates\\nframes\\nwhere\\nthe\\nball\\nmisses\\nbeing\\ndetected,\\nto\\nensure\\na \\ncontinuous\\nrunning\\nfeed.\\nOPEN\\nSOUR CE\\nCONTRIB UTIONS\\nOmdena\\nAI\\nVITB\\nChapter\\n(Operations\\nMana ger\\nand\\nCo-Lead):\\n●\\nWater\\nQuality\\nMonitoring\\nthrough\\nGIS\\nTechniques\\nfor\\nBhopal\\nFebruary\\n2023\\n-\\nApril\\n2023\\n○\\nLed\\na\\nproject\\nto\\nmonitor\\nthe\\nwater\\nquality\\nof\\nthree\\nmajor\\nlakes\\nin\\nBhopal\\nusing\\nGIS\\ntechniques\\nfor\\ndata\\ncollection\\nand\\nanalysis.\\nOvercame\\nchallenges\\nrelated\\nto\\nterrain\\nand\\naccess\\nto\\nremote\\nareas,\\nensuring\\ntimely\\ncompletion\\nand\\ndata\\nintegrity.\\nCollaborated\\nwith\\nlocal\\nenvironmental\\nagencies\\nto\\nprovide\\ninsights\\non\\npollution\\nlevels,\\ninfluencing\\nsustainable\\nlake\\nmanagement\\ndecisions.\\nOrganized\\nteam\\nresponsibilities\\nto\\nensure\\nefficient\\nworkflows\\nand\\neffective\\nintegration\\nof\\nGIS\\ntools\\nfor\\nanalyzing\\nwater\\nquality\\nparameters.\\n●\\nRoad\\nInspection\\nin\\nBhopal\\nand\\nMexico\\n(Inter national\\nColla boration)\\nMarch\\n2024\\n○\\nContributed\\nto\\nan\\ninternational\\ncollaboration\\nbetween\\nBhopal\\nand\\nMexico\\non\\nroad\\nquality\\nmonitoring\\nusing\\na\\nComputer\\nVision-based\\nsystem.\\nDeveloped\\na\\nlive\\nroad\\ndetection\\nsystem\\nutilizing\\nreal-time\\nimage\\nprocessing\\nto\\nidentify\\nroad\\nconditions\\nfor\\npublic\\naccess\\nin\\nroute\\nplanning\\nand\\nsafety.\\nLeveraged\\nYOLO\\nobject\\ndetection\\nand\\nOpenCV\\nto\\ncreate\\na\\nrobust\\nsystem\\nfor\\ndetecting\\npotholes,\\ncracks,\\nand\\nother\\nirregularities,\\nenhancing\\nroad\\nsafety\\nand\\nurban\\ninfrastructure\\nmonitoring.\\nSKILLS\\nLanguages\\nand\\nSoftware:\\nPython,\\nR,\\nHTML,\\nCSS,\\nTableau,\\nFigma,\\nDocker,\\nFirebase,\\nAWS,\\nGit\\nFrameworks\\nand\\nLibraries:\\nPytorch,\\nNLTK,\\nTensorflow,\\nSpacy,\\nPandas,\\nPIL,\\nOpenCV,\\nMatplotlib,\\nSeaborn,\\nSK-Learn,\\nLangchain,\\nTransformers'), Document(metadata={'source': 'pdfs/Gen AI Engineer _ Machine Learning Engineer Assignment (1).pdf', 'page': 0}, page_content='Gen\\nAI\\nEngineer\\n/\\nMachine\\nLearning\\nEngineer\\nAssignment\\nPart\\n1:\\nRetrieval-Augmented\\nGeneration\\n(RAG)\\nModel\\nfor\\nQA\\nBot\\nProblem\\nStatement:\\nDevelop\\na\\nRetrieval-Augmented\\nGeneration\\n(RAG)\\nmodel\\nfor\\na\\nQuestion\\nAnswering\\n(QA)\\nbot\\nfor\\na\\nbusiness.\\nUse\\na\\nvector\\ndatabase\\nlike\\nPinecone\\nDB\\nand\\na\\ngenerative\\nmodel\\nlike\\nCohere\\nAPI\\n(or\\nany\\nother\\navailable\\nalternative).\\nThe\\nQA\\nbot\\nshould\\nbe\\nable\\nto\\nretrieve\\nrelevant\\ninformation\\nfrom\\na\\ndataset\\nand\\ngenerate\\ncoherent\\nanswers.\\nTask\\nRequirements:\\n1.\\nImplement\\na\\nRAG-based\\nmodel\\nthat\\ncan\\nhandle\\nquestions\\nrelated\\nto\\na\\nprovided\\ndocument\\nor\\ndataset.\\n2.\\nUse\\na\\nvector\\ndatabase\\n(such\\nas\\nPinecone\\n)\\nto\\nstore\\nand\\nretrieve\\ndocument\\nembeddings\\nefficiently.\\n3.\\nTest\\nthe\\nmodel\\nwith\\nseveral\\nqueries\\nand\\nshow\\nhow\\nwell\\nit\\nretrieves\\nand\\ngenerates\\naccurate\\nanswers\\nfrom\\nthe\\ndocument.\\nDeliverables:\\n●\\nA\\nColab\\nnotebook\\ndemonstrating\\nthe\\nentire\\npipeline,\\nfrom\\ndata\\nloading\\nto\\nquestion\\nanswering.\\n●\\nDocumentation\\nexplaining\\nthe\\nmodel\\narchitecture,\\napproach\\nto\\nretrieval,\\nand\\nhow\\ngenerative\\nresponses\\nare\\ncreated.\\n●\\nProvide\\nseveral\\nexample\\nqueries\\nand\\nthe\\ncorresponding\\noutputs.'), Document(metadata={'source': 'pdfs/Gen AI Engineer _ Machine Learning Engineer Assignment (1).pdf', 'page': 1}, page_content=\"Part\\n2:\\nInteractive\\nQA\\nBot\\nInterface\\nProblem\\nStatement:\\nDevelop\\nan\\ninteractive\\ninterface\\nfor\\nthe\\nQA\\nbot\\nfrom\\nPart\\n1,\\nallowing\\nusers\\nto\\ninput\\nqueries\\nand\\nretrieve\\nanswers\\nin\\nreal\\ntime.\\nThe\\ninterface\\nshould\\nenable\\nusers\\nto\\nupload\\ndocuments\\nand\\nask\\nquestions\\nbased\\non\\nthe\\ncontent\\nof\\nthe\\nuploaded\\ndocument.\\nTask\\nRequirements:\\n1.\\nBuild\\na\\nsimple\\nfrontend\\ninterface\\nusing\\nStreamlit\\nor\\nGradio\\n,\\nallowing\\nusers\\nto\\nupload\\nPDF\\ndocuments\\nand\\nask\\nquestions.\\n2.\\nIntegrate\\nthe\\nbackend\\nfrom\\nPart\\n1\\nto\\nprocess\\nthe\\nPDF,\\nstore\\ndocument\\nembeddings,\\nand\\nprovide\\nreal-time\\nanswers\\nto\\nuser\\nqueries.\\n3.\\nEnsure\\nthat\\nthe\\nsystem\\ncan\\nhandle\\nmultiple\\nqueries\\nefficiently\\nand\\nprovide\\naccurate,\\ncontextually\\nrelevant\\nresponses.\\n4.\\nAllow\\nusers\\nto\\nsee\\nthe\\nretrieved\\ndocument\\nsegments\\nalongside\\nthe\\ngenerated\\nanswer.\\nDeliverables:\\n●\\nA\\ndeployed\\nQA\\nbot\\nwith\\na\\nfrontend\\ninterface\\nwhere\\nusers\\ncan\\nupload\\ndocuments\\nand\\ninteract\\nwith\\nthe\\nbot.\\n●\\nDocumentation\\non\\nhow\\nthe\\nuser\\ncan\\nupload\\nfiles,\\nask\\nquestions,\\nand\\nview\\nthe\\nbot's\\nresponses.\\n●\\nExample\\ninteractions\\ndemonstrating\\nthe\\nbot's\\ncapabilities.\\nGuidelines:\\n●\\nUse\\nDocker\\nto\\ncontainerize\\nthe\\napplication\\nfor\\neasy\\ndeployment.\\n●\\nEnsure\\nthe\\nsystem\\ncan\\nhandle\\nlarge\\ndocuments\\nand\\nmultiple\\nqueries\\nwithout\\nsignificant\\nperformance\\ndrops.\\n●\\nShare\\nthe\\ncode,\\ndeployment\\ninstructions,\\nand\\nthe\\nfinal\\nworking\\nmodel\\nthrough\\nGitHub.\\nGeneral\\nGuidelines:\\n1.\\nEnsure\\nmodular\\nand\\nscalable\\ncode\\nfollowing\\nbest\\npractices\\nfor\\nboth\\nfrontend\\nand\\nbackend\\ndevelopment.\\n2.\\nDocument\\nyour\\napproach\\nthoroughly,\\nexplaining\\nyour\\ndecisions,\\nchallenges\\nfaced,\\nand\\nsolutions.\\n3.\\nProvide\\na\\ndetailed\\nReadMe\\nfile\\nin\\nyour\\nGitHub\\nrepository,\\nincluding\\nsetup\\nand\\nusage\\ninstructions.\\n4.\\nSubmissions\\nshould\\ninclude:\\n○\\nSource\\ncode\\nfor\\nboth\\nthe\\nnotebook\\nand\\nthe\\ninterface.\\n○\\nA\\nfully\\nfunctional\\nColab\\nnotebook.\\n○\\nDocumentation\\non\\nthe\\npipeline\\nand\\ndeployment\\ninstructions.\")]\n"
          ]
        }
      ],
      "source": [
        "print(data)"
      ]
    },
    {
      "cell_type": "code",
      "execution_count": 7,
      "metadata": {
        "colab": {
          "base_uri": "https://localhost:8080/"
        },
        "id": "7npRYfIl5kfw",
        "outputId": "d233169b-322d-4e72-9085-86cea92466b1"
      },
      "outputs": [
        {
          "name": "stdout",
          "output_type": "stream",
          "text": [
            "Gen\n",
            "AI\n",
            "Engineer\n",
            "/\n",
            "Machine\n",
            "Learning\n",
            "Engineer\n",
            "Assignment\n",
            "Part\n",
            "1:\n",
            "Retrieval-Augmented\n",
            "Generation\n",
            "(RAG)\n",
            "Model\n",
            "for\n",
            "QA\n",
            "Bot\n",
            "Problem\n",
            "Statement:\n",
            "Develop\n",
            "a\n",
            "Retrieval-Augmented\n",
            "Generation\n",
            "(RAG)\n",
            "model\n",
            "for\n",
            "a\n",
            "Question\n",
            "Answering\n",
            "(QA)\n",
            "bot\n",
            "for\n",
            "a\n",
            "business.\n",
            "Use\n",
            "a\n",
            "vector\n",
            "database\n",
            "like\n",
            "Pinecone\n",
            "DB\n",
            "and\n",
            "a\n",
            "generative\n",
            "model\n",
            "like\n",
            "Cohere\n",
            "API\n",
            "(or\n",
            "any\n",
            "other\n",
            "available\n",
            "alternative).\n",
            "The\n",
            "QA\n",
            "bot\n",
            "should\n",
            "be\n",
            "able\n",
            "to\n",
            "retrieve\n",
            "relevant\n",
            "information\n",
            "from\n",
            "a\n",
            "dataset\n",
            "and\n",
            "generate\n",
            "coherent\n",
            "answers.\n",
            "Task\n",
            "Requirements:\n",
            "1.\n",
            "Implement\n",
            "a\n",
            "RAG-based\n",
            "model\n",
            "that\n",
            "can\n",
            "handle\n",
            "questions\n",
            "related\n",
            "to\n",
            "a\n",
            "provided\n",
            "document\n",
            "or\n",
            "dataset.\n",
            "2.\n",
            "Use\n",
            "a\n",
            "vector\n",
            "database\n",
            "(such\n",
            "as\n",
            "Pinecone\n",
            ")\n",
            "to\n",
            "store\n",
            "and\n",
            "retrieve\n",
            "document\n",
            "embeddings\n",
            "efficiently.\n",
            "3.\n",
            "Test\n",
            "the\n",
            "model\n",
            "with\n",
            "several\n",
            "queries\n",
            "and\n",
            "show\n",
            "how\n",
            "well\n",
            "it\n",
            "retrieves\n",
            "and\n",
            "generates\n",
            "accurate\n",
            "answers\n",
            "from\n",
            "the\n",
            "document.\n",
            "Deliverables:\n",
            "●\n",
            "A\n",
            "Colab\n",
            "notebook\n",
            "demonstrating\n",
            "the\n",
            "entire\n",
            "pipeline,\n",
            "from\n",
            "data\n",
            "loading\n",
            "to\n",
            "question\n",
            "answering.\n",
            "●\n",
            "Documentation\n",
            "explaining\n",
            "the\n",
            "model\n",
            "architecture,\n",
            "approach\n",
            "to\n",
            "retrieval,\n",
            "and\n",
            "how\n",
            "generative\n",
            "responses\n",
            "are\n",
            "created.\n",
            "●\n",
            "Provide\n",
            "several\n",
            "example\n",
            "queries\n",
            "and\n",
            "the\n",
            "corresponding\n",
            "outputs.\n"
          ]
        }
      ],
      "source": [
        "print(data[2].page_content)\n"
      ]
    },
    {
      "cell_type": "code",
      "execution_count": 8,
      "metadata": {
        "id": "P8GqHEcNfbwn"
      },
      "outputs": [],
      "source": [
        "context = \"\\n\".join(str(p.page_content) for p in data)"
      ]
    },
    {
      "cell_type": "code",
      "execution_count": 9,
      "metadata": {
        "colab": {
          "base_uri": "https://localhost:8080/"
        },
        "id": "4nvbcnpEggNV",
        "outputId": "2ef07a27-eee6-4dad-eb7f-595dae81b053"
      },
      "outputs": [
        {
          "name": "stdout",
          "output_type": "stream",
          "text": [
            "The total number of words in the context: 8780\n"
          ]
        }
      ],
      "source": [
        "print(\"The total number of words in the context:\", len(context))"
      ]
    },
    {
      "cell_type": "markdown",
      "metadata": {
        "id": "YCxO8xcoh-1o"
      },
      "source": [
        "**Split the Extracted Data into Text Chunks**"
      ]
    },
    {
      "cell_type": "code",
      "execution_count": 10,
      "metadata": {
        "id": "i41KTLFeglrG"
      },
      "outputs": [],
      "source": [
        "text_splitter = RecursiveCharacterTextSplitter(chunk_size=1000, chunk_overlap=200)\n",
        "context = \"\\n\\n\".join(str(p.page_content) for p in data)"
      ]
    },
    {
      "cell_type": "code",
      "execution_count": 11,
      "metadata": {
        "id": "zFw5QymciLYA"
      },
      "outputs": [],
      "source": [
        "texts = text_splitter.split_text(context)"
      ]
    },
    {
      "cell_type": "code",
      "execution_count": 12,
      "metadata": {
        "colab": {
          "base_uri": "https://localhost:8080/"
        },
        "id": "UuijWaXXiT3X",
        "outputId": "1d087409-696d-4e88-b437-3cbe398dc678"
      },
      "outputs": [
        {
          "name": "stdout",
          "output_type": "stream",
          "text": [
            "12\n"
          ]
        }
      ],
      "source": [
        "print(len(texts))"
      ]
    },
    {
      "cell_type": "code",
      "execution_count": 13,
      "metadata": {
        "colab": {
          "base_uri": "https://localhost:8080/",
          "height": 140
        },
        "id": "HiJbvFzLviQW",
        "outputId": "00dec014-5307-4bc1-9a57-fbdf605d8f84"
      },
      "outputs": [
        {
          "data": {
            "text/plain": [
              "'Rishit\\nChugh\\nrishitchugh@gmail.com\\n❖\\ngithub.com/R-C101\\n❖\\nwww.linkedin.com/in/rishit-chugh/\\nEDUCATION\\nVIT\\nBhopal\\n(Bachelor s\\nin\\nTechnolo gy)\\n2021-2025\\nBTech\\nComputer\\nScience\\n(specialization\\nin\\nArtificial\\nIntelligence\\nand\\nMachine\\nLearning)\\nCum ulative\\nGPA:\\n9.05/10\\nRESEAR CH\\nEXPERIENCE\\n●\\nTitle\\n:\\nRECAP:\\nA\\nResource-Efficient\\nMethod\\nfor\\nAdversarial\\nPrompting\\nin\\nLarge\\nLanguag e\\nModels\\n●\\nDuration:\\nJune\\n2024\\n-\\nOctober\\n2024\\n●\\nStatus:\\nUnder\\nReview\\n●\\nDescription:\\nRECAP\\nis\\na\\nresource-efficient\\nmethod\\nfor\\nadversarial\\nprompting\\nin\\nLarge\\nLanguag e \\nModels\\n(LLMs),\\ndesigned\\nto\\nreduce\\ncomputational\\ncosts\\nwhile\\nmaintaining\\ncomparable\\nsuccess\\nrates \\nto\\nmethods\\nlike\\nGCG\\nand\\nPEZ.\\nIt\\nimpro ves\\naccessibility\\nfor\\nblack-box\\nLLMs ,\\noffering\\na \\ncost-effecti ve\\nsolution\\nfor\\ncompanies\\nwith\\nlimited\\nresources .\\nBy\\nleveraging\\npre-g enerated\\ntoken\\nsets, \\nRECAP\\nreduces\\ntraining\\ntimes\\nand\\nhighlights\\nthe\\npotential\\nfor\\nfuture\\noptimization.\\nThe\\nmethod \\nexplores\\nsecurity\\nimplications ,\\npromoting\\nethical\\nuse,\\nand\\nproposes'"
            ]
          },
          "execution_count": 13,
          "metadata": {},
          "output_type": "execute_result"
        }
      ],
      "source": [
        "texts[0]"
      ]
    },
    {
      "cell_type": "markdown",
      "metadata": {
        "id": "GNwjGibdioWl"
      },
      "source": [
        "**Download the Embeddings from Google**"
      ]
    },
    {
      "cell_type": "code",
      "execution_count": 29,
      "metadata": {},
      "outputs": [
        {
          "name": "stdout",
          "output_type": "stream",
          "text": [
            "\u001b[33mDEPRECATION: Loading egg at /opt/homebrew/lib/python3.11/site-packages/twisted-23.10.0-py3.11.egg is deprecated. pip 24.3 will enforce this behaviour change. A possible replacement is to use pip for package installation.. Discussion can be found at https://github.com/pypa/pip/issues/12330\u001b[0m\u001b[33m\n",
            "\u001b[0m\u001b[33mDEPRECATION: colab 1.13.5 has a non-standard dependency specifier pytz>=2011n. pip 24.1 will enforce this behaviour change. A possible replacement is to upgrade to a newer version of colab or contact the author to suggest that they release a version with a conforming dependency specifiers. Discussion can be found at https://github.com/pypa/pip/issues/12063\u001b[0m\u001b[33m\n",
            "\u001b[0m\u001b[31mERROR: pip's dependency resolver does not currently take into account all the packages that are installed. This behaviour is the source of the following dependency conflicts.\n",
            "twisted 23.10.0 requires automat>=0.8.0, which is not installed.\n",
            "twisted 23.10.0 requires constantly>=15.1, which is not installed.\n",
            "twisted 23.10.0 requires hyperlink>=17.1.1, which is not installed.\n",
            "twisted 23.10.0 requires incremental>=22.10.0, which is not installed.\n",
            "crewai 0.28.8 requires langchain<0.2.0,>=0.1.10, but you have langchain 0.3.3 which is incompatible.\n",
            "crewai 0.28.8 requires python-dotenv==1.0.0, but you have python-dotenv 1.0.1 which is incompatible.\n",
            "embedchain 0.1.101 requires langchain<0.2.0,>=0.1.4, but you have langchain 0.3.3 which is incompatible.\n",
            "embedchain 0.1.101 requires langchain-openai<0.0.6,>=0.0.5, but you have langchain-openai 0.2.2 which is incompatible.\n",
            "embedchain 0.1.101 requires tiktoken<0.6.0,>=0.5.2, but you have tiktoken 0.8.0 which is incompatible.\n",
            "langchain-community 0.2.4 requires langchain<0.3.0,>=0.2.0, but you have langchain 0.3.3 which is incompatible.\n",
            "langchain-community 0.2.4 requires langchain-core<0.3.0,>=0.2.0, but you have langchain-core 0.3.12 which is incompatible.\n",
            "crewai-tools 0.1.7 requires langchain<0.2.0,>=0.1.4, but you have langchain 0.3.3 which is incompatible.\u001b[0m\u001b[31m\n",
            "\u001b[0m\n",
            "\u001b[1m[\u001b[0m\u001b[34;49mnotice\u001b[0m\u001b[1;39;49m]\u001b[0m\u001b[39;49m A new release of pip is available: \u001b[0m\u001b[31;49m24.0\u001b[0m\u001b[39;49m -> \u001b[0m\u001b[32;49m24.2\u001b[0m\n",
            "\u001b[1m[\u001b[0m\u001b[34;49mnotice\u001b[0m\u001b[1;39;49m]\u001b[0m\u001b[39;49m To update, run: \u001b[0m\u001b[32;49mpython3.11 -m pip install --upgrade pip\u001b[0m\n",
            "Note: you may need to restart the kernel to use updated packages.\n"
          ]
        }
      ],
      "source": [
        "pip install --upgrade langchain langchain-google-genai"
      ]
    },
    {
      "cell_type": "code",
      "execution_count": 15,
      "metadata": {
        "id": "DJktbpuMiVUD"
      },
      "outputs": [],
      "source": [
        "from langchain_google_genai import GoogleGenerativeAIEmbeddings"
      ]
    },
    {
      "cell_type": "markdown",
      "metadata": {},
      "source": [
        "add your api key"
      ]
    },
    {
      "cell_type": "code",
      "execution_count": 17,
      "metadata": {},
      "outputs": [],
      "source": [
        "import os\n",
        "os.environ['GOOGLE_API_KEY'] = 'add your api key here'"
      ]
    },
    {
      "cell_type": "code",
      "execution_count": 18,
      "metadata": {
        "id": "HEQh0pSOiyzU"
      },
      "outputs": [],
      "source": [
        "embeddings = GoogleGenerativeAIEmbeddings(model = \"models/embedding-001\")"
      ]
    },
    {
      "cell_type": "markdown",
      "metadata": {
        "id": "D41zymgnjHgk"
      },
      "source": [
        "**Create Embeddings for each of the Text Chunk and save them into a Vector Store**"
      ]
    },
    {
      "cell_type": "code",
      "execution_count": 30,
      "metadata": {},
      "outputs": [
        {
          "name": "stdout",
          "output_type": "stream",
          "text": [
            "\u001b[33mDEPRECATION: Loading egg at /opt/homebrew/lib/python3.11/site-packages/twisted-23.10.0-py3.11.egg is deprecated. pip 24.3 will enforce this behaviour change. A possible replacement is to use pip for package installation.. Discussion can be found at https://github.com/pypa/pip/issues/12330\u001b[0m\u001b[33m\n",
            "\u001b[0m\u001b[33mDEPRECATION: colab 1.13.5 has a non-standard dependency specifier pytz>=2011n. pip 24.1 will enforce this behaviour change. A possible replacement is to upgrade to a newer version of colab or contact the author to suggest that they release a version with a conforming dependency specifiers. Discussion can be found at https://github.com/pypa/pip/issues/12063\u001b[0m\u001b[33m\n",
            "\u001b[0m\n",
            "\u001b[1m[\u001b[0m\u001b[34;49mnotice\u001b[0m\u001b[1;39;49m]\u001b[0m\u001b[39;49m A new release of pip is available: \u001b[0m\u001b[31;49m24.0\u001b[0m\u001b[39;49m -> \u001b[0m\u001b[32;49m24.2\u001b[0m\n",
            "\u001b[1m[\u001b[0m\u001b[34;49mnotice\u001b[0m\u001b[1;39;49m]\u001b[0m\u001b[39;49m To update, run: \u001b[0m\u001b[32;49mpython3.11 -m pip install --upgrade pip\u001b[0m\n"
          ]
        }
      ],
      "source": [
        "!pip install -qU langchain-pinecone pinecone-notebooks"
      ]
    },
    {
      "cell_type": "markdown",
      "metadata": {},
      "source": [
        "add your api key"
      ]
    },
    {
      "cell_type": "code",
      "execution_count": 40,
      "metadata": {},
      "outputs": [],
      "source": [
        "import getpass\n",
        "import os\n",
        "\n",
        "\n",
        "from pinecone import Pinecone, ServerlessSpec\n",
        "\n",
        "if not os.getenv(\"PINECONE_API_KEY\"):\n",
        "    os.environ[\"PINECONE_API_KEY\"] = 'add your api key here'\n",
        "\n",
        "pinecone_api_key = os.environ.get(\"PINECONE_API_KEY\")\n",
        "\n",
        "pc = Pinecone(api_key=pinecone_api_key)"
      ]
    },
    {
      "cell_type": "code",
      "execution_count": 45,
      "metadata": {},
      "outputs": [],
      "source": [
        "import time\n",
        "index_name = \"langchain-docs-index\"  # change if desired\n",
        "\n",
        "existing_indexes = [index_info[\"name\"] for index_info in pc.list_indexes()]\n",
        "\n",
        "if index_name not in existing_indexes:\n",
        "    pc.create_index(\n",
        "        name=index_name,\n",
        "        dimension=768,\n",
        "        metric=\"cosine\",\n",
        "        spec=ServerlessSpec(cloud=\"aws\", region=\"us-east-1\"),\n",
        "    )\n",
        "    while not pc.describe_index(index_name).status[\"ready\"]:\n",
        "        time.sleep(1)\n",
        "        \n",
        "\n",
        "index = pc.Index(index_name)"
      ]
    },
    {
      "cell_type": "code",
      "execution_count": 46,
      "metadata": {},
      "outputs": [],
      "source": [
        "from langchain_pinecone import PineconeVectorStore\n",
        "\n",
        "vector_store = PineconeVectorStore(index=index, embedding=embeddings)"
      ]
    },
    {
      "cell_type": "code",
      "execution_count": 47,
      "metadata": {},
      "outputs": [],
      "source": [
        "from uuid import uuid4\n",
        "\n",
        "from langchain_core.documents import Document\n",
        "\n",
        "documents = [Document(page_content=text) for text in texts]\n",
        "uuids = [str(uuid4()) for _ in range(len(documents))]\n"
      ]
    },
    {
      "cell_type": "code",
      "execution_count": 48,
      "metadata": {},
      "outputs": [
        {
          "data": {
            "text/plain": [
              "['92c4e3db-52bd-47be-8c77-c2e31f097bd2',\n",
              " '4851b559-7847-4bb7-b8f5-278bfcc88668',\n",
              " '43204706-90f2-44a8-8fcc-d704242d9a33',\n",
              " 'aabdfa40-b2e8-4f63-9fe3-fdac5ff92766',\n",
              " 'ea4d1784-03cd-42f3-b3a2-d348ebaddda1',\n",
              " '38f26aa8-2487-4d99-81ec-f70befea66dc',\n",
              " '5f9b3698-b18c-487d-830d-cd760be50238',\n",
              " '5764c535-9762-48ab-a1c5-6d45d36b524d',\n",
              " '66bfb8cf-6dcc-44b3-88ba-446d5a818b22',\n",
              " 'c0a2cc07-cb46-439c-80ba-6fbc9f87d9f7',\n",
              " 'ab44343f-085d-4940-928e-3361e246675d',\n",
              " '230455be-7c44-48a9-bf07-455ed79080bc']"
            ]
          },
          "execution_count": 48,
          "metadata": {},
          "output_type": "execute_result"
        }
      ],
      "source": [
        "vector_store.add_documents(documents=documents, ids=uuids)"
      ]
    },
    {
      "cell_type": "markdown",
      "metadata": {},
      "source": [
        "### Pass the retrieved text and the question to gemini (made into a function to test multiple prompts)"
      ]
    },
    {
      "cell_type": "code",
      "execution_count": 58,
      "metadata": {},
      "outputs": [],
      "source": [
        "from langchain_google_genai import ChatGoogleGenerativeAI \n",
        "def get_answer(question):\n",
        "    results = vector_store.similarity_search(\n",
        "    question,\n",
        "    k=2,\n",
        "    )\n",
        "    prompt_template = \"\"\"\n",
        "  Answer the question as detailed as possible from the provided context, make sure to provide all the details, if the answer is not in\n",
        "  provided context just say, \"answer is not available in the context\", don't provide the wrong answer\\n\\n\n",
        "  Context:\\n {context}?\\n\n",
        "  Question: \\n{question}\\n\n",
        "\n",
        "  Answer:\n",
        "\"\"\"\n",
        "\n",
        "    prompt = PromptTemplate(template = prompt_template, input_variables = [\"context\", \"question\"])\n",
        "    \n",
        "    model = ChatGoogleGenerativeAI(model=\"gemini-pro\",\n",
        "                             temperature=0.3)\n",
        "    chain = load_qa_chain(model, chain_type=\"stuff\", prompt=prompt)\n",
        "    response = chain(\n",
        "    {\"input_documents\":results, \"question\": question}\n",
        "    , return_only_outputs=True)\n",
        "    \n",
        "    return response\n",
        "    "
      ]
    },
    {
      "cell_type": "code",
      "execution_count": 59,
      "metadata": {},
      "outputs": [
        {
          "data": {
            "text/plain": [
              "{'output_text': 'VLLM was used to reduce inference times by 5x with parallel inference on multiple GPUs.'}"
            ]
          },
          "execution_count": 59,
          "metadata": {},
          "output_type": "execute_result"
        }
      ],
      "source": [
        "get_answer(\"VLLM was used for what?\")"
      ]
    },
    {
      "cell_type": "code",
      "execution_count": 60,
      "metadata": {},
      "outputs": [
        {
          "data": {
            "text/plain": [
              "{'output_text': 'Develop a Retrieval-Augmented Generation (RAG) model for a Question Answering (QA) bot for a business. Use a vector database like Pinecone DB and a generative model like Cohere API (or any other available alternative). The QA bot should be able to retrieve relevant information from a dataset and generate coherent answers.'}"
            ]
          },
          "execution_count": 60,
          "metadata": {},
          "output_type": "execute_result"
        }
      ],
      "source": [
        "get_answer(\"What is the problem statement of Part 1\")"
      ]
    },
    {
      "cell_type": "code",
      "execution_count": 61,
      "metadata": {},
      "outputs": [
        {
          "data": {
            "text/plain": [
              "{'output_text': 'Streamlit or Gradio'}"
            ]
          },
          "execution_count": 61,
          "metadata": {},
          "output_type": "execute_result"
        }
      ],
      "source": [
        "get_answer(\"What frontend framework am I allowed to use?\")"
      ]
    }
  ],
  "metadata": {
    "accelerator": "GPU",
    "colab": {
      "provenance": []
    },
    "kernelspec": {
      "display_name": "Python 3",
      "name": "python3"
    },
    "language_info": {
      "codemirror_mode": {
        "name": "ipython",
        "version": 3
      },
      "file_extension": ".py",
      "mimetype": "text/x-python",
      "name": "python",
      "nbconvert_exporter": "python",
      "pygments_lexer": "ipython3",
      "version": "3.11.7"
    }
  },
  "nbformat": 4,
  "nbformat_minor": 0
}
